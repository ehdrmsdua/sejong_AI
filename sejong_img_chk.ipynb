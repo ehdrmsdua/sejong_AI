{
 "cells": [
  {
   "cell_type": "code",
   "execution_count": 1,
   "id": "cf0aed29",
   "metadata": {},
   "outputs": [],
   "source": [
    "import torch\n",
    "import torch.nn as nn\n",
    "import torch.nn.functional as F\n",
    "from torch.utils.data import Dataset, DataLoader\n",
    "from torchvision import transforms\n",
    "from PIL import Image\n",
    "import os"
   ]
  },
  {
   "cell_type": "code",
   "execution_count": null,
   "id": "fce0f7e0",
   "metadata": {
    "scrolled": true
   },
   "outputs": [
    {
     "name": "stdout",
     "output_type": "stream",
     "text": [
      "Epoch [1/10], Loss: 0.0000\n",
      "Epoch [2/10], Loss: 0.0000\n",
      "Epoch [3/10], Loss: 0.0000\n",
      "Epoch [4/10], Loss: 0.0000\n",
      "Epoch [5/10], Loss: 0.0000\n",
      "Epoch [6/10], Loss: 0.0000\n"
     ]
    }
   ],
   "source": [
    "import torch.nn.functional as F\n",
    "class FCN(nn.Module):\n",
    "    def __init__(self, num_classes):\n",
    "        super(FCN, self).__init__()\n",
    "        self.conv1 = nn.Conv2d(3, 64, kernel_size=3, padding=1)\n",
    "        self.conv2 = nn.Conv2d(64, 128, kernel_size=3, padding=1)\n",
    "        self.upsample = nn.ConvTranspose2d(128, num_classes, kernel_size=16, stride=8, padding=4)\n",
    "\n",
    "    def forward(self, x):\n",
    "        x = torch.relu(self.conv1(x))\n",
    "        x = torch.relu(self.conv2(x))\n",
    "        x = self.upsample(x)\n",
    "        x = F.interpolate(x, size=(256, 256), mode='bilinear', align_corners=False)\n",
    "        return x\n",
    "\n",
    "class CustomDataset(Dataset):\n",
    "    def __init__(self, image_dir, label_dir, transform=None):\n",
    "        self.image_dir = image_dir\n",
    "        self.label_dir = label_dir\n",
    "        self.transform = transform\n",
    "        self.image_filenames = [f for f in os.listdir(image_dir) if f.endswith('.jpg')]\n",
    "        self.label_filenames = [f.replace('.jpg', '_mask.png') for f in self.image_filenames]\n",
    "\n",
    "    def __len__(self):\n",
    "        return len(self.image_filenames)\n",
    "\n",
    "    def __getitem__(self, idx):\n",
    "        img_name = os.path.join(self.image_dir, self.image_filenames[idx])\n",
    "        label_name = os.path.join(self.label_dir, self.label_filenames[idx].replace('.jpg', '_mask.png'))\n",
    "\n",
    "        image = Image.open(img_name).convert('RGB')\n",
    "        label = Image.open(label_name).convert('L')  # Convert to grayscale\n",
    "        \n",
    "        if self.transform:\n",
    "            image = self.transform(image)\n",
    "            label = self.transform(label)\n",
    "        \n",
    "        # Convert label to LongTensor for CrossEntropyLoss\n",
    "        label = torch.squeeze(label, 0).long()  # Remove channel dim and convert to long\n",
    "\n",
    "        return image, label\n",
    "\n",
    "transform = transforms.Compose([\n",
    "    transforms.Resize((256, 256)),\n",
    "    transforms.ToTensor()\n",
    "])\n",
    "\n",
    "image_dir = r\"C:\\Users\\USER\\OneDrive\\바탕 화면\\횡단보도\\segmentation\\images\"\n",
    "label_dir = r\"C:\\Users\\USER\\OneDrive\\바탕 화면\\횡단보도\\segmentation\\labels\"\n",
    "dataset = CustomDataset(image_dir, label_dir, transform=transform)\n",
    "dataloader = DataLoader(dataset, batch_size=4, shuffle=True)\n",
    "\n",
    "num_classes = 2\n",
    "fcn_model = FCN(num_classes)\n",
    "\n",
    "criterion = nn.CrossEntropyLoss()\n",
    "optimizer = torch.optim.Adam(fcn_model.parameters(), lr=0.001)\n",
    "\n",
    "num_epochs = 10\n",
    "for epoch in range(num_epochs):\n",
    "    for images, labels in dataloader:\n",
    "        optimizer.zero_grad()\n",
    "        outputs = fcn_model(images)\n",
    "        loss = criterion(outputs, labels)\n",
    "        loss.backward()\n",
    "        optimizer.step()\n",
    "\n",
    "    print(f'Epoch [{epoch+1}/{num_epochs}], Loss: {loss.item():.4f}')\n",
    "\n",
    "torch.save(fcn_model.state_dict(), 'fcn_model.pth')\n"
   ]
  },
  {
   "cell_type": "code",
   "execution_count": 6,
   "id": "d43f375b",
   "metadata": {},
   "outputs": [
    {
     "data": {
      "image/png": "[encoded data removed]",
      "text/plain": [
       "<Figure size 640x480 with 2 Axes>"
      ]
     },
     "metadata": {},
     "output_type": "display_data"
    }
   ],
   "source": [
    "from PIL import Image\n",
    "import matplotlib.pyplot as plt\n",
    "import numpy as np\n",
    "\n",
    "# 라벨 이미지를 불러옵니다\n",
    "label_path = r\"C:\\Users\\USER\\OneDrive\\바탕 화면\\횡단보도\\segmentation\\labels\\CC1522002_2023-06-23-034657_mask.png\"\n",
    "label_image = Image.open(label_path)\n",
    "\n",
    "# 이미지를 numpy 배열로 변환합니다\n",
    "label_array = np.array(label_image)\n",
    "\n",
    "# Plot the image using a colormap that can display 4 different values distinctly\n",
    "plt.imshow(label_array, cmap='viridis')  # 'viridis' 컬러맵을 사용합니다\n",
    "plt.colorbar()  # 컬러바를 표시하여 각 색상이 어떤 값을 나타내는지 표시합니다\n",
    "plt.axis('off')  # 축을 숨깁니다\n",
    "plt.show()\n"
   ]
  }
 ],
 "metadata": {
  "kernelspec": {
   "display_name": "sejong",
   "language": "python",
   "name": "sejong"
  },
  "language_info": {
   "codemirror_mode": {
    "name": "ipython",
    "version": 3
   },
   "file_extension": ".py",
   "mimetype": "text/x-python",
   "name": "python",
   "nbconvert_exporter": "python",
   "pygments_lexer": "ipython3",
   "version": "3.9.0"
  }
 },
 "nbformat": 4,
 "nbformat_minor": 5
}
